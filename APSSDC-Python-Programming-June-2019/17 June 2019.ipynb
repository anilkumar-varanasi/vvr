{
 "cells": [
  {
   "cell_type": "code",
   "execution_count": null,
   "metadata": {},
   "outputs": [
    {
     "name": "stdout",
     "output_type": "stream",
     "text": [
      "6\n",
      "6\n",
      "1 2 3 YES\n",
      "4\n",
      "1 2 NO\n",
      "5\n",
      "1 NO\n",
      "28\n",
      "1 2 4 7 14 YES\n"
     ]
    }
   ],
   "source": [
    "#perfect number\n",
    "def factors(n):\n",
    "    sum=0\n",
    "    for i in range(1,n):\n",
    "        if (n%i==0):\n",
    "            sum=sum+i\n",
    "            print(i,end=\" \")\n",
    "    if(n==sum):\n",
    "        print(\"YES\")\n",
    "    else:\n",
    "        print(\"NO\")\n",
    "testcases=int(input())\n",
    "for i in range(testcases):\n",
    "    n=int(input())\n",
    "    factors(n)"
   ]
  },
  {
   "cell_type": "code",
   "execution_count": 5,
   "metadata": {},
   "outputs": [
    {
     "name": "stdout",
     "output_type": "stream",
     "text": [
      "prime\n"
     ]
    }
   ],
   "source": [
    "def primenumber(n):\n",
    "    count=0\n",
    "    for i in range(1,n+1):\n",
    "        if n%i==0:\n",
    "            count=count+1\n",
    "    if count==2:\n",
    "        print(\"prime\")\n",
    "    else:\n",
    "        print(\"not prime\")\n",
    "primenumber(2)\n",
    "        "
   ]
  },
  {
   "cell_type": "code",
   "execution_count": 2,
   "metadata": {},
   "outputs": [
    {
     "name": "stdout",
     "output_type": "stream",
     "text": [
      "3\n",
      "sumit mitsu\n",
      "YES\n",
      "anil ilna\n",
      "YES\n",
      "no no\n",
      "YES\n"
     ]
    }
   ],
   "source": [
    "# Two Strings\n",
    "\n",
    "n=int(input())\n",
    "def twostrings(f,s):\n",
    "    f1=1\n",
    "    if len(f)!=len(s):\n",
    "        return 'NO'\n",
    "    else:\n",
    "        for i in range(len(f)):\n",
    "            if f.count(f[i])!=s.count(f[i]):\n",
    "                return 'NO'\n",
    "        if f1==1:\n",
    "                return 'YES'\n",
    "for i in range(n):\n",
    "    st=input().split()\n",
    "    f=st[0]\n",
    "    s=st[1]\n",
    "    print(twostrings(f,s))"
   ]
  },
  {
   "cell_type": "code",
   "execution_count": 1,
   "metadata": {},
   "outputs": [
    {
     "name": "stdout",
     "output_type": "stream",
     "text": [
      "5 41\n"
     ]
    }
   ],
   "source": [
    "#Duration\n",
    "s= \"2 42 8 23\"\n",
    "def minute(s):\n",
    "    s = s.split()\n",
    "    sh = int(s[0])\n",
    "    sm = int(s[1])\n",
    "    eh = int(s[2])\n",
    "    em = int(s[3])\n",
    "    startminutes = (sh * 60) + sm\n",
    "    endminutes = (eh * 60) + em\n",
    "    return endminutes - startminutes\n",
    "\n",
    "def minOut(minutes):\n",
    "    # Convert minutes to HH MM\n",
    "    hh = minutes // 60\n",
    "    mm = minutes % 60\n",
    "    print(hh, mm)\n",
    "    return\n",
    "\n",
    "minutes = minute(s)\n",
    "minOut(minutes)"
   ]
  },
  {
   "cell_type": "markdown",
   "metadata": {},
   "source": [
    "## Play with numbers\n",
    "line 1:array size,no of queries line 2:array elements next q lines:query-sub array of the original array\n",
    "\n",
    "5 3 1 2 3 4 5 1 2 0 5"
   ]
  },
  {
   "cell_type": "code",
   "execution_count": 21,
   "metadata": {},
   "outputs": [
    {
     "name": "stdout",
     "output_type": "stream",
     "text": [
      "5 3\n",
      "1 2 3 4 5\n",
      "2 4\n",
      "3\n",
      "3 5\n",
      "4\n",
      "2 5\n",
      "3\n"
     ]
    }
   ],
   "source": [
    "#play with numbers\n",
    "n,q=map(int,input().split())\n",
    "l=list(map(int,input().split()))\n",
    "z=[]\n",
    "e=0\n",
    "for i in range(0,n):\n",
    "    e+=l[i]\n",
    "    z.append(e)\n",
    "for i in range(0,q):\n",
    "    s,e=map(int,input().split())\n",
    "    if(s==1):\n",
    "        print((z[e-1])//(e-s+1))\n",
    "    else:\n",
    "        print((z[e-1]-z[s-2])//(e-s+1))\n"
   ]
  },
  {
   "cell_type": "code",
   "execution_count": null,
   "metadata": {},
   "outputs": [],
   "source": []
  }
 ],
 "metadata": {
  "kernelspec": {
   "display_name": "Python 3",
   "language": "python",
   "name": "python3"
  },
  "language_info": {
   "codemirror_mode": {
    "name": "ipython",
    "version": 3
   },
   "file_extension": ".py",
   "mimetype": "text/x-python",
   "name": "python",
   "nbconvert_exporter": "python",
   "pygments_lexer": "ipython3",
   "version": "3.7.3"
  }
 },
 "nbformat": 4,
 "nbformat_minor": 2
}
