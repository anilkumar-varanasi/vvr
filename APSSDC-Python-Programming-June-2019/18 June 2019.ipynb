{
 "cells": [
  {
   "cell_type": "code",
   "execution_count": null,
   "metadata": {},
   "outputs": [],
   "source": [
    "#Highest remainder\n",
    "def highestremainder(n):\n",
    "    hr=0\n",
    "    v=n\n",
    "    for i in range(n-1,n//2,-1):\n",
    "        r=n%i\n",
    "        if r>hr:\n",
    "            hr=r\n",
    "            v=i\n",
    "    return v\n",
    "highestremainder(30)"
   ]
  },
  {
   "cell_type": "markdown",
   "metadata": {},
   "source": [
    "## special numbers"
   ]
  },
  {
   "cell_type": "code",
   "execution_count": null,
   "metadata": {},
   "outputs": [],
   "source": [
    "def isSpecialNumber(n,p):\n",
    "    if primeFactors(n) >= p:\n",
    "        return True\n",
    "    return False\n",
    "\n",
    "# Function to check if number is Prime\n",
    "def isPrime(n):\n",
    "    flag = 1\n",
    "    if n == 2:\n",
    "        return True\n",
    "    for i in range (2, n//2 + 1):\n",
    "        if n % i == 0:\n",
    "            flag = 0\n",
    "            return False\n",
    "    if flag == 1:\n",
    "            return True\n",
    "        \n",
    "isPrime(13)\n",
    "\n",
    "# Function to determine number of prime factors\n",
    "def primeFactors(n):\n",
    "    if isPrime(n):\n",
    "        return 1\n",
    "    count = 0\n",
    "    for i in range(2, n//2+1):\n",
    "        if isPrime(i) and n % i ==0:\n",
    "            count = count + 1\n",
    "    return count\n",
    "    \n",
    "isSpecialNumber(30,2)\n",
    "\n"
   ]
  },
  {
   "cell_type": "markdown",
   "metadata": {},
   "source": [
    "## Tuples\n",
    " t1 = ()\n",
    " \n",
    " li=[]\n",
    "\n",
    " Difference b/w lists and tuples\n",
    " \n",
    " lists are mutable -can be changed/modified\n",
    " \n",
    " ..used to access,modify,add,delete data\n",
    " \n",
    " Tuples are immutable - cannot be changed once initialised\n",
    " \n",
    " ..used to access data only\n",
    " \n",
    " ..all slicing work\n"
   ]
  },
  {
   "cell_type": "code",
   "execution_count": null,
   "metadata": {},
   "outputs": [],
   "source": [
    "t1=(1, 2, 8, 6, 0)\n",
    "t1[3]   #accessing the fourth element\n",
    "\n",
    "\n",
    "t1[len(t1)//2: ] #accessing the all elements fro middle to last\n",
    "\n",
    "\n"
   ]
  },
  {
   "cell_type": "markdown",
   "metadata": {},
   "source": [
    "## Dictionaries\n",
    " it works on the concept of set\n",
    " \n",
    " unique data\n",
    " \n",
    " keys,values\n",
    " \n",
    " key is the unique identifier for a value\n",
    " \n",
    " value is data that can be accessed with a key"
   ]
  },
  {
   "cell_type": "code",
   "execution_count": null,
   "metadata": {},
   "outputs": [],
   "source": [
    "d1={\"k1\":\"value1\", \"k2\":\"value2\"}\n",
    "\n",
    "d1[\"k2\"]    #accessing the value wiyh key \"k2\""
   ]
  },
  {
   "cell_type": "code",
   "execution_count": null,
   "metadata": {},
   "outputs": [],
   "source": [
    "d1.keys()    #returns list of all keys"
   ]
  },
  {
   "cell_type": "code",
   "execution_count": null,
   "metadata": {},
   "outputs": [],
   "source": [
    "d1.values()   #returns list of all values"
   ]
  },
  {
   "cell_type": "code",
   "execution_count": null,
   "metadata": {},
   "outputs": [],
   "source": [
    "d1.items()     #returns list of tuples of keys and values "
   ]
  },
  {
   "cell_type": "code",
   "execution_count": null,
   "metadata": {},
   "outputs": [],
   "source": [
    "d1[\"k3\"]=\"value3\"    #adding an element to dictionary\n",
    "d1"
   ]
  },
  {
   "cell_type": "code",
   "execution_count": null,
   "metadata": {},
   "outputs": [],
   "source": [
    "d1[\"k3\"]=\"value4\"    #updating an element\n",
    "d1"
   ]
  },
  {
   "cell_type": "code",
   "execution_count": null,
   "metadata": {},
   "outputs": [],
   "source": [
    "d1.pop(\"k3\")    #removing an element\n",
    "d1"
   ]
  },
  {
   "cell_type": "code",
   "execution_count": null,
   "metadata": {},
   "outputs": [],
   "source": [
    "\"k3\" in d1"
   ]
  },
  {
   "cell_type": "markdown",
   "metadata": {},
   "source": [
    "### contacts application\n",
    "- add contact\n",
    "- search for contact\n",
    "- list all contacts\n",
    "   - name1:phone1\n",
    "   - name2:phone2\n",
    "- modify contact\n",
    "- remove contact\n",
    "- import contact\n",
    "\n"
   ]
  },
  {
   "cell_type": "code",
   "execution_count": null,
   "metadata": {},
   "outputs": [],
   "source": [
    "contacts={}\n",
    "\n",
    "def addcontact(name,phone):\n",
    "    #verify that the contact doesnot already exists\n",
    "    if name not in contacts:\n",
    "        contacts[name]=phone\n",
    "        print(\"contact %s added \"%name)\n",
    "    else:\n",
    "        print(\"contact %s already exists\" %name)\n",
    "    return\n",
    "addcontact(\"name1\",123456)"
   ]
  },
  {
   "cell_type": "code",
   "execution_count": null,
   "metadata": {},
   "outputs": [],
   "source": [
    "def searchcontacts(name):\n",
    "    if name in contacts:\n",
    "        print(name, \":\",contacts[name])\n",
    "    else:\n",
    "        print(\"%s does not exist\"%name)\n",
    "    return\n",
    "searchcontacts(\"name1\")"
   ]
  },
  {
   "cell_type": "code",
   "execution_count": null,
   "metadata": {},
   "outputs": [],
   "source": [
    "#new contacts is given as a dictionary\n",
    "#merge new contacts with existing contacts\n",
    "def importcontacts(newcontacts):\n",
    "    contacts.update(newcontacts)\n",
    "    print(len(newcontacts.keys()), \"contacts added successfully\")\n",
    "    return\n",
    "\n",
    "newcontacts={\"name2\":45678,\"name3\":654678}\n",
    "importcontacts(newcontacts)"
   ]
  },
  {
   "cell_type": "code",
   "execution_count": null,
   "metadata": {},
   "outputs": [],
   "source": [
    "newcontacts"
   ]
  },
  {
   "cell_type": "code",
   "execution_count": null,
   "metadata": {},
   "outputs": [],
   "source": [
    "contacts"
   ]
  },
  {
   "cell_type": "code",
   "execution_count": null,
   "metadata": {},
   "outputs": [],
   "source": [
    "print(contacts)\n",
    "def updatecontact(new):\n",
    "    contacts.update(new)\n",
    "    print(len(new.keys()), \"contacts updated successfully\")\n",
    "    print(contacts)\n",
    "    return\n",
    "\n",
    "updatedcontacts={\"name2\":11111,\"name3\":22222}\n",
    "updatecontact(updatedcontacts)"
   ]
  },
  {
   "cell_type": "code",
   "execution_count": null,
   "metadata": {},
   "outputs": [],
   "source": [
    "contacts"
   ]
  },
  {
   "cell_type": "code",
   "execution_count": null,
   "metadata": {},
   "outputs": [],
   "source": [
    "def modifycontact(name,phone):\n",
    "    if name not in contacts:\n",
    "        print(name,\"is not found\")\n",
    "    else:\n",
    "        contacts[name]=phone\n",
    "        print(name,\"is modified\")\n",
    "    return\n",
    "modifycontact(\"name1\",8888)\n",
    "    "
   ]
  },
  {
   "cell_type": "code",
   "execution_count": null,
   "metadata": {},
   "outputs": [],
   "source": [
    "contacts"
   ]
  },
  {
   "cell_type": "markdown",
   "metadata": {},
   "source": [
    "## Packages and modules\n",
    " Package-->collection of modules(python files   .py) and subpackages\n",
    " \n",
    " - subpackage-->\n",
    " \n",
    " Modules-->a single python containing functions\n",
    " \n",
    " package -> subpackage -> modules -> functions"
   ]
  },
  {
   "cell_type": "code",
   "execution_count": null,
   "metadata": {},
   "outputs": [],
   "source": [
    "import math\n",
    "\n",
    "math.floor(123.456)"
   ]
  },
  {
   "cell_type": "code",
   "execution_count": null,
   "metadata": {},
   "outputs": [],
   "source": [
    "from math import floor as fl\n",
    "\n",
    "fl(123.456)"
   ]
  },
  {
   "cell_type": "code",
   "execution_count": null,
   "metadata": {},
   "outputs": [],
   "source": [
    "#function to generate n random numbers\n",
    "\n",
    "import random\n",
    "\n",
    "def generatenrandomnumbers(n,lb,ub):\n",
    "    for i in range(0,n):\n",
    "        print(random.randint(lb,ub), end=\" \")\n",
    "        \n",
    "generatenrandomnumbers(10,0,100)"
   ]
  },
  {
   "cell_type": "code",
   "execution_count": null,
   "metadata": {},
   "outputs": [],
   "source": [
    "#from packages import numarical\n",
    "from Packages import numarical\n",
    "\n",
    "numarical.isprime(5)"
   ]
  },
  {
   "cell_type": "code",
   "execution_count": null,
   "metadata": {},
   "outputs": [],
   "source": []
  }
 ],
 "metadata": {
  "kernelspec": {
   "display_name": "Python 3",
   "language": "python",
   "name": "python3"
  },
  "language_info": {
   "codemirror_mode": {
    "name": "ipython",
    "version": 3
   },
   "file_extension": ".py",
   "mimetype": "text/x-python",
   "name": "python",
   "nbconvert_exporter": "python",
   "pygments_lexer": "ipython3",
   "version": "3.7.3"
  }
 },
 "nbformat": 4,
 "nbformat_minor": 2
}
