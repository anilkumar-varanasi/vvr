{
 "cells": [
  {
   "cell_type": "code",
   "execution_count": null,
   "metadata": {},
   "outputs": [
    {
     "name": "stdout",
     "output_type": "stream",
     "text": [
      "3\n",
      "3\n",
      "1 2\n",
      "3 4\n",
      "7 2\n",
      "1\n"
     ]
    }
   ],
   "source": [
    "def recursivesums():\n",
    "    ntest=int(input())\n",
    "    total=0\n",
    "    for j in range(ntest):\n",
    "        d=input().split()\n",
    "        a=int(d[0])\n",
    "        b=int(d[1])\n",
    "        total=total+a*b\n",
    "    if total<=9:\n",
    "            return total\n",
    "    else:\n",
    "            while total>9:\n",
    "                check=list(str(total))\n",
    "                check=[int(x) for x in check]\n",
    "                total=sum(check)\n",
    "            return total\n",
    "n=int(input())\n",
    "for i in range(n):\n",
    "    print(recursivesums())\n"
   ]
  },
  {
   "cell_type": "code",
   "execution_count": 1,
   "metadata": {},
   "outputs": [
    {
     "name": "stdout",
     "output_type": "stream",
     "text": [
      "5\n",
      "1 2 3 4 5\n",
      "120\n"
     ]
    }
   ],
   "source": [
    "#Find product\n",
    "n=int(input())\n",
    "a=input()\n",
    "a=a.split()\n",
    "ans=1\n",
    "a=[int(x) for x in a][:n]\n",
    "for i in a:\n",
    "    ans=(ans*i)%(10**9+7)\n",
    "print(ans)\n"
   ]
  },
  {
   "cell_type": "code",
   "execution_count": null,
   "metadata": {},
   "outputs": [],
   "source": []
  }
 ],
 "metadata": {
  "kernelspec": {
   "display_name": "Python 3",
   "language": "python",
   "name": "python3"
  },
  "language_info": {
   "codemirror_mode": {
    "name": "ipython",
    "version": 3
   },
   "file_extension": ".py",
   "mimetype": "text/x-python",
   "name": "python",
   "nbconvert_exporter": "python",
   "pygments_lexer": "ipython3",
   "version": "3.7.3"
  }
 },
 "nbformat": 4,
 "nbformat_minor": 2
}
