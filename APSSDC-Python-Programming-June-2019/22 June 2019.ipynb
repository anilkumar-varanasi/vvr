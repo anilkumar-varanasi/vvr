{
 "cells": [
  {
   "cell_type": "markdown",
   "metadata": {},
   "source": [
    "## Day objective\n",
    "     File handeling\n",
    "  - Basic file data processing\n",
    "          - acessing and modifying file data\n",
    "  - character count\n",
    "  - line count\n",
    "  - file size\n",
    "  - word count\n",
    "  - unique word count"
   ]
  },
  {
   "cell_type": "code",
   "execution_count": 1,
   "metadata": {},
   "outputs": [
    {
     "name": "stdout",
     "output_type": "stream",
     "text": [
      "new.txt\n",
      "<_io.TextIOWrapper name='new.txt' mode='r' encoding='cp1252'>\n",
      "3\n"
     ]
    }
   ],
   "source": [
    "#line count\n",
    "k=input()\n",
    "count=0\n",
    "f=open(k,\"r\")\n",
    "print(f)\n",
    "for i in f:\n",
    "    #print(type(i))\n",
    "    count=count+1\n",
    "print(count)"
   ]
  },
  {
   "cell_type": "code",
   "execution_count": 2,
   "metadata": {},
   "outputs": [
    {
     "name": "stdout",
     "output_type": "stream",
     "text": [
      "new.txt\n",
      "60\n"
     ]
    }
   ],
   "source": [
    "#character count\n",
    "k=input()\n",
    "count=0\n",
    "f=open(k,\"r\")\n",
    "p=f.read()\n",
    "for i in p:\n",
    "    #print(type(i))\n",
    "    count=count+1\n",
    "print(count)"
   ]
  },
  {
   "cell_type": "code",
   "execution_count": 3,
   "metadata": {},
   "outputs": [
    {
     "name": "stdout",
     "output_type": "stream",
     "text": [
      "new.txt\n"
     ]
    },
    {
     "data": {
      "text/plain": [
       "4"
      ]
     },
     "execution_count": 3,
     "metadata": {},
     "output_type": "execute_result"
    }
   ],
   "source": [
    "def word():\n",
    "    \n",
    "    k=input()\n",
    "    count=0\n",
    "    f=open(k,\"r\")\n",
    "    p=f.read().split()\n",
    "    for i in p:\n",
    "        #print(type(i))\n",
    "        count=count+1\n",
    "    return count\n",
    "word()"
   ]
  },
  {
   "cell_type": "code",
   "execution_count": null,
   "metadata": {},
   "outputs": [],
   "source": []
  }
 ],
 "metadata": {
  "kernelspec": {
   "display_name": "Python 3",
   "language": "python",
   "name": "python3"
  },
  "language_info": {
   "codemirror_mode": {
    "name": "ipython",
    "version": 3
   },
   "file_extension": ".py",
   "mimetype": "text/x-python",
   "name": "python",
   "nbconvert_exporter": "python",
   "pygments_lexer": "ipython3",
   "version": "3.7.3"
  }
 },
 "nbformat": 4,
 "nbformat_minor": 2
}
