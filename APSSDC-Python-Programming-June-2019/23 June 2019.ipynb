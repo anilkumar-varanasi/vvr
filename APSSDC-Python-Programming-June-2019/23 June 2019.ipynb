{
 "cells": [
  {
   "cell_type": "code",
   "execution_count": 3,
   "metadata": {},
   "outputs": [
    {
     "data": {
      "text/plain": [
       "[1, 2, 3]"
      ]
     },
     "execution_count": 3,
     "metadata": {},
     "output_type": "execute_result"
    }
   ],
   "source": [
    "#function to get unique elements in a list\n",
    "\n",
    "#[1,2,3,3,2,1]-->[1,2,3]\n",
    "#create a empty unique list []\n",
    "\n",
    "def uniquedata(li):\n",
    "    #create an empty unique list []\n",
    "    unique=[]\n",
    "    \n",
    "    #for every element in the main list,\n",
    "      #check if it exists in the unique list.\n",
    "      #if it does not exists,add it to unique list\n",
    "      #else if it already exists,move on to \n",
    "    for element in li:\n",
    "        if element not in unique:\n",
    "            unique.append(element)\n",
    "    return unique\n",
    "li=[1,2,3,3,2,1]\n",
    "uniquedata(li)"
   ]
  },
  {
   "cell_type": "code",
   "execution_count": 11,
   "metadata": {},
   "outputs": [
    {
     "name": "stdout",
     "output_type": "stream",
     "text": [
      "4\n"
     ]
    }
   ],
   "source": [
    "#function to unique word count in a file\n",
    "\n",
    "count=0\n",
    "unique=[]\n",
    "f=open(\"new.txt\",\"r\")\n",
    "p=f.read().split()\n",
    "\n",
    "for e in p:\n",
    "   if e not in unique:\n",
    "       unique.append(e)\n",
    "#print(unique)\n",
    "print(len(unique))\n"
   ]
  },
  {
   "cell_type": "code",
   "execution_count": 12,
   "metadata": {},
   "outputs": [
    {
     "name": "stdout",
     "output_type": "stream",
     "text": [
      " enter unique word new\n",
      "new : 1\n"
     ]
    }
   ],
   "source": [
    "#function to print frequency count of a text file\n",
    "\n",
    "l=input(\" enter unique word \")\n",
    "count=0\n",
    "f=open(\"new.txt\",\"r\")\n",
    "p=f.read().split()\n",
    "#print(p)\n",
    "for i in p:\n",
    "   if l==i:\n",
    "       count=count+1\n",
    "print(l,\":\",count)\n"
   ]
  },
  {
   "cell_type": "code",
   "execution_count": null,
   "metadata": {},
   "outputs": [],
   "source": []
  }
 ],
 "metadata": {
  "kernelspec": {
   "display_name": "Python 3",
   "language": "python",
   "name": "python3"
  },
  "language_info": {
   "codemirror_mode": {
    "name": "ipython",
    "version": 3
   },
   "file_extension": ".py",
   "mimetype": "text/x-python",
   "name": "python",
   "nbconvert_exporter": "python",
   "pygments_lexer": "ipython3",
   "version": "3.7.3"
  }
 },
 "nbformat": 4,
 "nbformat_minor": 2
}
